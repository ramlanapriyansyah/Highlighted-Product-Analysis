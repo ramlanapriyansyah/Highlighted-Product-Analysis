{
 "cells": [
  {
   "cell_type": "code",
   "execution_count": 1,
   "metadata": {},
   "outputs": [],
   "source": [
    "import pandas as pd\n",
    "import numpy as np\n",
    "import warnings\n",
    "warnings.filterwarnings('ignore')"
   ]
  },
  {
   "cell_type": "markdown",
   "metadata": {},
   "source": [
    "# Data Preparation"
   ]
  },
  {
   "cell_type": "markdown",
   "metadata": {},
   "source": [
    "## a. Load the Data"
   ]
  },
  {
   "cell_type": "code",
   "execution_count": null,
   "metadata": {},
   "outputs": [],
   "source": [
    "aug1 = pd.read_excel('Order.all.20240801_20240831_part_1_of_7.xlsx')\n",
    "aug2 = pd.read_excel('Order.all.20240801_20240831_part_2_of_7.xlsx')\n",
    "aug3 = pd.read_excel('Order.all.20240801_20240831_part_3_of_7.xlsx')\n",
    "aug4 = pd.read_excel('Order.all.20240801_20240831_part_4_of_7.xlsx')\n",
    "aug5 = pd.read_excel('Order.all.20240801_20240831_part_5_of_7.xlsx')\n",
    "aug6 = pd.read_excel('Order.all.20240801_20240831_part_6_of_7.xlsx')\n",
    "aug7 = pd.read_excel('Order.all.20240801_20240831_part_7_of_7.xlsx')\n",
    "\n",
    "sep1 = pd.read_excel('Order.all.20240901_20240930_part_1_of_7.xlsx')\n",
    "sep2 = pd.read_excel('Order.all.20240901_20240930_part_2_of_7.xlsx')\n",
    "sep3 = pd.read_excel('Order.all.20240901_20240930_part_3_of_7.xlsx')\n",
    "sep4 = pd.read_excel('Order.all.20240901_20240930_part_4_of_7.xlsx')\n",
    "sep5 = pd.read_excel('Order.all.20240901_20240930_part_5_of_7.xlsx')\n",
    "sep6 = pd.read_excel('Order.all.20240901_20240930_part_6_of_7.xlsx')\n",
    "sep7 = pd.read_excel('Order.all.20240901_20240930_part_7_of_7.xlsx')\n",
    "\n",
    "oct1 = pd.read_excel('Order.all.20241001_20241031_part_1_of_8.xlsx')\n",
    "oct2 = pd.read_excel('Order.all.20241001_20241031_part_2_of_8.xlsx')\n",
    "oct3 = pd.read_excel('Order.all.20241001_20241031_part_3_of_8.xlsx')\n",
    "oct4 = pd.read_excel('Order.all.20241001_20241031_part_4_of_8.xlsx')\n",
    "oct5 = pd.read_excel('Order.all.20241001_20241031_part_5_of_8.xlsx')\n",
    "oct6 = pd.read_excel('Order.all.20241001_20241031_part_6_of_8.xlsx')\n",
    "oct7 = pd.read_excel('Order.all.20241001_20241031_part_7_of_8.xlsx')\n",
    "oct8 = pd.read_excel('Order.all.20241001_20241031_part_8_of_8.xlsx')"
   ]
  },
  {
   "cell_type": "code",
   "execution_count": null,
   "metadata": {},
   "outputs": [],
   "source": [
    "df = pd.concat([aug1,aug2,aug3,aug4,aug5,aug6,aug7,sep1,sep2,sep3,sep4,sep5,sep6,sep7,\n",
    "                oct1,oct2,oct3,oct4,oct5,oct6,oct7,oct8], axis=0)"
   ]
  },
  {
   "cell_type": "markdown",
   "metadata": {},
   "source": [
    "## b. Select Necessary Columns"
   ]
  },
  {
   "cell_type": "code",
   "execution_count": 3,
   "metadata": {},
   "outputs": [],
   "source": [
    "column_names = ['No. Pesanan', 'Status Pesanan', 'Waktu Pesanan Dibuat', 'Metode Pembayaran', 'SKU Induk', 'Nama Produk', 'Total Harga Produk', 'Jumlah Produk di Pesan', 'Total Pembayaran']\n",
    "necessary_column_data = df[column_names]"
   ]
  },
  {
   "cell_type": "markdown",
   "metadata": {},
   "source": [
    "## c. Filter Data: 'Pesanan Selesai' Only"
   ]
  },
  {
   "cell_type": "code",
   "execution_count": 4,
   "metadata": {},
   "outputs": [],
   "source": [
    "pesanan_selesai = necessary_column_data[necessary_column_data['Status Pesanan']=='Selesai']"
   ]
  },
  {
   "cell_type": "code",
   "execution_count": 5,
   "metadata": {},
   "outputs": [
    {
     "data": {
      "text/plain": [
       "Index(['No. Pesanan', 'Status Pesanan', 'Waktu Pesanan Dibuat',\n",
       "       'Metode Pembayaran', 'SKU Induk', 'Nama Produk', 'Total Harga Produk',\n",
       "       'Jumlah Produk di Pesan', 'Total Pembayaran'],\n",
       "      dtype='object')"
      ]
     },
     "execution_count": 5,
     "metadata": {},
     "output_type": "execute_result"
    }
   ],
   "source": [
    "pesanan_selesai.columns"
   ]
  },
  {
   "cell_type": "markdown",
   "metadata": {},
   "source": [
    "## d. Convert Data and Add Column"
   ]
  },
  {
   "cell_type": "markdown",
   "metadata": {},
   "source": [
    "**Convert 'Waktu Pesanan Dibuat' to Datetime**"
   ]
  },
  {
   "cell_type": "code",
   "execution_count": 7,
   "metadata": {},
   "outputs": [],
   "source": [
    "pesanan_selesai['Waktu Pesanan Dibuat'] = pd.to_datetime(pesanan_selesai['Waktu Pesanan Dibuat'])"
   ]
  },
  {
   "cell_type": "markdown",
   "metadata": {},
   "source": [
    "**Add column 'Bulan'**"
   ]
  },
  {
   "cell_type": "code",
   "execution_count": 8,
   "metadata": {},
   "outputs": [],
   "source": [
    "pesanan_selesai['Bulan'] = pesanan_selesai['Waktu Pesanan Dibuat'].dt.strftime('%B')"
   ]
  },
  {
   "cell_type": "code",
   "execution_count": 9,
   "metadata": {},
   "outputs": [
    {
     "data": {
      "text/html": [
       "<div>\n",
       "<style scoped>\n",
       "    .dataframe tbody tr th:only-of-type {\n",
       "        vertical-align: middle;\n",
       "    }\n",
       "\n",
       "    .dataframe tbody tr th {\n",
       "        vertical-align: top;\n",
       "    }\n",
       "\n",
       "    .dataframe thead th {\n",
       "        text-align: right;\n",
       "    }\n",
       "</style>\n",
       "<table border=\"1\" class=\"dataframe\">\n",
       "  <thead>\n",
       "    <tr style=\"text-align: right;\">\n",
       "      <th></th>\n",
       "      <th>No. Pesanan</th>\n",
       "      <th>Status Pesanan</th>\n",
       "      <th>Waktu Pesanan Dibuat</th>\n",
       "      <th>Metode Pembayaran</th>\n",
       "      <th>SKU Induk</th>\n",
       "      <th>Nama Produk</th>\n",
       "      <th>Total Harga Produk</th>\n",
       "      <th>Jumlah Produk di Pesan</th>\n",
       "      <th>Total Pembayaran</th>\n",
       "      <th>Bulan</th>\n",
       "    </tr>\n",
       "  </thead>\n",
       "  <tbody>\n",
       "    <tr>\n",
       "      <th>2</th>\n",
       "      <td>24080146HXVVAV</td>\n",
       "      <td>Selesai</td>\n",
       "      <td>2024-08-01 00:01:00</td>\n",
       "      <td>ShopeePay</td>\n",
       "      <td>8.993320e+12</td>\n",
       "      <td>Body &amp; the Scents by TERATU BEAUTY Eau de Parf...</td>\n",
       "      <td>10000</td>\n",
       "      <td>4</td>\n",
       "      <td>34500</td>\n",
       "      <td>August</td>\n",
       "    </tr>\n",
       "  </tbody>\n",
       "</table>\n",
       "</div>"
      ],
      "text/plain": [
       "      No. Pesanan Status Pesanan Waktu Pesanan Dibuat Metode Pembayaran  \\\n",
       "2  24080146HXVVAV        Selesai  2024-08-01 00:01:00         ShopeePay   \n",
       "\n",
       "      SKU Induk                                        Nama Produk  \\\n",
       "2  8.993320e+12  Body & the Scents by TERATU BEAUTY Eau de Parf...   \n",
       "\n",
       "   Total Harga Produk  Jumlah Produk di Pesan  Total Pembayaran   Bulan  \n",
       "2               10000                       4             34500  August  "
      ]
     },
     "execution_count": 9,
     "metadata": {},
     "output_type": "execute_result"
    }
   ],
   "source": [
    "analysis_data = pesanan_selesai\n",
    "analysis_data.head(1)"
   ]
  },
  {
   "cell_type": "markdown",
   "metadata": {},
   "source": [
    "# Revenue Analysis"
   ]
  },
  {
   "cell_type": "markdown",
   "metadata": {},
   "source": [
    "## a. August"
   ]
  },
  {
   "cell_type": "code",
   "execution_count": 10,
   "metadata": {},
   "outputs": [],
   "source": [
    "august_data = analysis_data[analysis_data['Bulan']=='August']"
   ]
  },
  {
   "cell_type": "code",
   "execution_count": 11,
   "metadata": {},
   "outputs": [],
   "source": [
    "# Keywords for Highlighted Products in August\n",
    "august_keywords = ['Skin Health Tea', 'Miracle Deo Natural Roll On', 'Pore Refining & Multibiome Acne Serum']\n",
    "\n",
    "# Create a column to check if 'Nama Produk' contains any of the keywords\n",
    "august_data['Is Highlighted'] = august_data['Nama Produk'].apply(\n",
    "    lambda x: any(keyword in x for keyword in august_keywords))"
   ]
  },
  {
   "cell_type": "code",
   "execution_count": 13,
   "metadata": {},
   "outputs": [
    {
     "data": {
      "text/html": [
       "<div>\n",
       "<style scoped>\n",
       "    .dataframe tbody tr th:only-of-type {\n",
       "        vertical-align: middle;\n",
       "    }\n",
       "\n",
       "    .dataframe tbody tr th {\n",
       "        vertical-align: top;\n",
       "    }\n",
       "\n",
       "    .dataframe thead th {\n",
       "        text-align: right;\n",
       "    }\n",
       "</style>\n",
       "<table border=\"1\" class=\"dataframe\">\n",
       "  <thead>\n",
       "    <tr style=\"text-align: right;\">\n",
       "      <th></th>\n",
       "      <th>Month</th>\n",
       "      <th>Non-Highlight Revenue</th>\n",
       "      <th>Highlight Revenue</th>\n",
       "      <th>Highlight Contribution(%)</th>\n",
       "    </tr>\n",
       "  </thead>\n",
       "  <tbody>\n",
       "    <tr>\n",
       "      <th>0</th>\n",
       "      <td>August</td>\n",
       "      <td>2519183947</td>\n",
       "      <td>88250888</td>\n",
       "      <td>3.38</td>\n",
       "    </tr>\n",
       "  </tbody>\n",
       "</table>\n",
       "</div>"
      ],
      "text/plain": [
       "    Month  Non-Highlight Revenue  Highlight Revenue  Highlight Contribution(%)\n",
       "0  August             2519183947           88250888                       3.38"
      ]
     },
     "execution_count": 13,
     "metadata": {},
     "output_type": "execute_result"
    }
   ],
   "source": [
    "# August Highlighted Products vs Non-Highlighted Products\n",
    "august_comparison = august_data.groupby(['Bulan', 'Is Highlighted'])['Total Harga Produk'].sum().reset_index()\n",
    "\n",
    "\n",
    "august_pivot = pd.pivot_table(august_comparison, index='Bulan', columns='Is Highlighted', values='Total Harga Produk').reset_index()\n",
    "\n",
    "august_pivot.columns = ['Bulan', 'Non-Highlighted Products', 'Highlighted Products']\n",
    "august_pivot['Hihglighted Products Contribution'] = (august_pivot['Highlighted Products']/\n",
    "                                                     (august_pivot['Highlighted Products'] + august_pivot['Non-Highlighted Products']) * 100\n",
    "                                                     )\n",
    "august_pivot['Hihglighted Products Contribution'] = round(august_pivot['Hihglighted Products Contribution'], 2)\n",
    "august_pivot.columns = ['Month', 'Non-Highlight Revenue', 'Highlight Revenue', 'Highlight Contribution(%)']\n",
    "august_pivot"
   ]
  },
  {
   "cell_type": "markdown",
   "metadata": {},
   "source": [
    "## b. September"
   ]
  },
  {
   "cell_type": "code",
   "execution_count": 14,
   "metadata": {},
   "outputs": [],
   "source": [
    "september_data = analysis_data[analysis_data['Bulan']=='September']"
   ]
  },
  {
   "cell_type": "code",
   "execution_count": 15,
   "metadata": {},
   "outputs": [],
   "source": [
    "# Keywords for Highlighted Products in September\n",
    "september_keywords = ['Skin Barrier Serum', 'Pore Refining & Multibiome Acne Serum', 'Intensive Acne Solution', \n",
    "            '2 in 1 Acne Serum', 'Skin Health Tea', 'Gentle Acne Body Wash']\n",
    "\n",
    "# Create a column to check if 'Nama Produk' contains any of the keywords\n",
    "september_data['Is Highlighted'] = september_data['Nama Produk'].apply(\n",
    "    lambda x: any(keyword in x for keyword in september_keywords))"
   ]
  },
  {
   "cell_type": "code",
   "execution_count": 23,
   "metadata": {},
   "outputs": [
    {
     "data": {
      "text/html": [
       "<div>\n",
       "<style scoped>\n",
       "    .dataframe tbody tr th:only-of-type {\n",
       "        vertical-align: middle;\n",
       "    }\n",
       "\n",
       "    .dataframe tbody tr th {\n",
       "        vertical-align: top;\n",
       "    }\n",
       "\n",
       "    .dataframe thead th {\n",
       "        text-align: right;\n",
       "    }\n",
       "</style>\n",
       "<table border=\"1\" class=\"dataframe\">\n",
       "  <thead>\n",
       "    <tr style=\"text-align: right;\">\n",
       "      <th></th>\n",
       "      <th>Month</th>\n",
       "      <th>Non-Highlight Revenue</th>\n",
       "      <th>Highlight Revenue</th>\n",
       "      <th>Highlight Contribution(%)</th>\n",
       "    </tr>\n",
       "  </thead>\n",
       "  <tbody>\n",
       "    <tr>\n",
       "      <th>0</th>\n",
       "      <td>September</td>\n",
       "      <td>2652650135</td>\n",
       "      <td>320050887</td>\n",
       "      <td>10.77</td>\n",
       "    </tr>\n",
       "  </tbody>\n",
       "</table>\n",
       "</div>"
      ],
      "text/plain": [
       "       Month  Non-Highlight Revenue  Highlight Revenue  \\\n",
       "0  September             2652650135          320050887   \n",
       "\n",
       "   Highlight Contribution(%)  \n",
       "0                      10.77  "
      ]
     },
     "execution_count": 23,
     "metadata": {},
     "output_type": "execute_result"
    }
   ],
   "source": [
    "# Highlighted Products vs Non-Highlighted Products in September\n",
    "september_comparison = september_data.groupby(['Bulan', 'Is Highlighted'])['Total Harga Produk'].sum().reset_index()\n",
    "\n",
    "september_pivot = pd.pivot_table(september_comparison, index='Bulan', columns='Is Highlighted', values='Total Harga Produk').reset_index()\n",
    "\n",
    "september_pivot.columns = ['Bulan', 'Non-Highlighted Products', 'Highlighted Products']\n",
    "september_pivot['Hihglighted Products Contribution'] = (september_pivot['Highlighted Products']/\n",
    "                                                     (september_pivot['Highlighted Products'] + september_pivot['Non-Highlighted Products']) * 100\n",
    "                                                     )\n",
    "september_pivot['Hihglighted Products Contribution'] = round(september_pivot['Hihglighted Products Contribution'], 2)\n",
    "september_pivot.columns = ['Month', 'Non-Highlight Revenue', 'Highlight Revenue', 'Highlight Contribution(%)']\n",
    "september_pivot"
   ]
  },
  {
   "cell_type": "markdown",
   "metadata": {},
   "source": [
    "## c. October"
   ]
  },
  {
   "cell_type": "code",
   "execution_count": 17,
   "metadata": {},
   "outputs": [],
   "source": [
    "october_data = analysis_data[analysis_data['Bulan']=='October']"
   ]
  },
  {
   "cell_type": "code",
   "execution_count": 18,
   "metadata": {},
   "outputs": [],
   "source": [
    "# Keywords for Highlighted Products in October\n",
    "october_keywords = ['Skin Barrier Serum', 'Pore Refining & Multibiome Acne Serum', 'Intensive Acne Solution', \n",
    "            '2 in 1 Acne Serum', 'Skin Health Tea', 'Gentle Acne Body Wash']\n",
    "\n",
    "# Create a column to check if 'Nama Produk' contains any of the keywords\n",
    "october_data['Is Highlighted'] = october_data['Nama Produk'].apply(\n",
    "    lambda x: any(keyword in x for keyword in october_keywords))"
   ]
  },
  {
   "cell_type": "code",
   "execution_count": 24,
   "metadata": {},
   "outputs": [
    {
     "data": {
      "text/html": [
       "<div>\n",
       "<style scoped>\n",
       "    .dataframe tbody tr th:only-of-type {\n",
       "        vertical-align: middle;\n",
       "    }\n",
       "\n",
       "    .dataframe tbody tr th {\n",
       "        vertical-align: top;\n",
       "    }\n",
       "\n",
       "    .dataframe thead th {\n",
       "        text-align: right;\n",
       "    }\n",
       "</style>\n",
       "<table border=\"1\" class=\"dataframe\">\n",
       "  <thead>\n",
       "    <tr style=\"text-align: right;\">\n",
       "      <th></th>\n",
       "      <th>Month</th>\n",
       "      <th>Non-Highlight Revenue</th>\n",
       "      <th>Highlight Revenue</th>\n",
       "      <th>Highlight Contribution(%)</th>\n",
       "    </tr>\n",
       "  </thead>\n",
       "  <tbody>\n",
       "    <tr>\n",
       "      <th>0</th>\n",
       "      <td>October</td>\n",
       "      <td>2824253461</td>\n",
       "      <td>287709242</td>\n",
       "      <td>9.25</td>\n",
       "    </tr>\n",
       "  </tbody>\n",
       "</table>\n",
       "</div>"
      ],
      "text/plain": [
       "     Month  Non-Highlight Revenue  Highlight Revenue  \\\n",
       "0  October             2824253461          287709242   \n",
       "\n",
       "   Highlight Contribution(%)  \n",
       "0                       9.25  "
      ]
     },
     "execution_count": 24,
     "metadata": {},
     "output_type": "execute_result"
    }
   ],
   "source": [
    "# Highlighted Products vs Non-Highlighted Products in October\n",
    "october_comparison = october_data.groupby(['Bulan', 'Is Highlighted'])['Total Harga Produk'].sum().reset_index()\n",
    "\n",
    "october_pivot = pd.pivot_table(october_comparison, index='Bulan', columns='Is Highlighted', values='Total Harga Produk').reset_index()\n",
    "\n",
    "october_pivot.columns = ['Bulan', 'Non-Highlighted Products', 'Highlighted Products']\n",
    "october_pivot['Hihglighted Products Contribution'] = (october_pivot['Highlighted Products']/\n",
    "                                                     (october_pivot['Highlighted Products'] + october_pivot['Non-Highlighted Products']) * 100\n",
    "                                                     )\n",
    "october_pivot['Hihglighted Products Contribution'] = round(october_pivot['Hihglighted Products Contribution'], 2)\n",
    "october_pivot.columns = ['Month', 'Non-Highlight Revenue', 'Highlight Revenue', 'Highlight Contribution(%)']\n",
    "october_pivot"
   ]
  },
  {
   "cell_type": "markdown",
   "metadata": {},
   "source": [
    "## d. Month-to-Month Growth"
   ]
  },
  {
   "cell_type": "code",
   "execution_count": 25,
   "metadata": {},
   "outputs": [
    {
     "data": {
      "text/html": [
       "<div>\n",
       "<style scoped>\n",
       "    .dataframe tbody tr th:only-of-type {\n",
       "        vertical-align: middle;\n",
       "    }\n",
       "\n",
       "    .dataframe tbody tr th {\n",
       "        vertical-align: top;\n",
       "    }\n",
       "\n",
       "    .dataframe thead th {\n",
       "        text-align: right;\n",
       "    }\n",
       "</style>\n",
       "<table border=\"1\" class=\"dataframe\">\n",
       "  <thead>\n",
       "    <tr style=\"text-align: right;\">\n",
       "      <th></th>\n",
       "      <th>Month</th>\n",
       "      <th>Non-Highlight Revenue</th>\n",
       "      <th>Highlight Revenue</th>\n",
       "      <th>Highlight Contribution(%)</th>\n",
       "      <th>Total Revenue</th>\n",
       "      <th>Non-Highlight Revenue Growth(%)</th>\n",
       "      <th>Highlight Revenue Growth(%)</th>\n",
       "    </tr>\n",
       "  </thead>\n",
       "  <tbody>\n",
       "    <tr>\n",
       "      <th>0</th>\n",
       "      <td>August</td>\n",
       "      <td>2519183947</td>\n",
       "      <td>88250888</td>\n",
       "      <td>3.38</td>\n",
       "      <td>2607434835</td>\n",
       "      <td>NaN</td>\n",
       "      <td>NaN</td>\n",
       "    </tr>\n",
       "    <tr>\n",
       "      <th>0</th>\n",
       "      <td>September</td>\n",
       "      <td>2652650135</td>\n",
       "      <td>320050887</td>\n",
       "      <td>10.77</td>\n",
       "      <td>2972701022</td>\n",
       "      <td>5.30</td>\n",
       "      <td>262.66</td>\n",
       "    </tr>\n",
       "    <tr>\n",
       "      <th>0</th>\n",
       "      <td>October</td>\n",
       "      <td>2824253461</td>\n",
       "      <td>287709242</td>\n",
       "      <td>9.25</td>\n",
       "      <td>3111962703</td>\n",
       "      <td>6.47</td>\n",
       "      <td>-10.11</td>\n",
       "    </tr>\n",
       "  </tbody>\n",
       "</table>\n",
       "</div>"
      ],
      "text/plain": [
       "       Month  Non-Highlight Revenue  Highlight Revenue  \\\n",
       "0     August             2519183947           88250888   \n",
       "0  September             2652650135          320050887   \n",
       "0    October             2824253461          287709242   \n",
       "\n",
       "   Highlight Contribution(%)  Total Revenue  Non-Highlight Revenue Growth(%)  \\\n",
       "0                       3.38     2607434835                              NaN   \n",
       "0                      10.77     2972701022                             5.30   \n",
       "0                       9.25     3111962703                             6.47   \n",
       "\n",
       "   Highlight Revenue Growth(%)  \n",
       "0                          NaN  \n",
       "0                       262.66  \n",
       "0                       -10.11  "
      ]
     },
     "execution_count": 25,
     "metadata": {},
     "output_type": "execute_result"
    }
   ],
   "source": [
    "highlighted_products_impact = pd.concat([august_pivot, september_pivot, october_pivot], axis=0)\n",
    "\n",
    "highlighted_products_impact['Total Revenue'] = highlighted_products_impact['Non-Highlight Revenue'] + highlighted_products_impact['Highlight Revenue']\n",
    "\n",
    "highlighted_products_impact['Non-Highlight Revenue Growth(%)'] = highlighted_products_impact['Non-Highlight Revenue'].pct_change() * 100\n",
    "highlighted_products_impact['Non-Highlight Revenue Growth(%)'] = round(highlighted_products_impact['Non-Highlight Revenue Growth(%)'], 2)\n",
    "\n",
    "highlighted_products_impact['Highlight Revenue Growth(%)'] = highlighted_products_impact['Highlight Revenue'].pct_change() * 100\n",
    "highlighted_products_impact['Highlight Revenue Growth(%)'] = round(highlighted_products_impact['Highlight Revenue Growth(%)'], 2)\n",
    "\n",
    "highlighted_products_impact"
   ]
  },
  {
   "cell_type": "markdown",
   "metadata": {},
   "source": [
    "# Quantity Analysis"
   ]
  },
  {
   "cell_type": "markdown",
   "metadata": {},
   "source": [
    "## a. August"
   ]
  },
  {
   "cell_type": "code",
   "execution_count": 26,
   "metadata": {},
   "outputs": [
    {
     "data": {
      "text/html": [
       "<div>\n",
       "<style scoped>\n",
       "    .dataframe tbody tr th:only-of-type {\n",
       "        vertical-align: middle;\n",
       "    }\n",
       "\n",
       "    .dataframe tbody tr th {\n",
       "        vertical-align: top;\n",
       "    }\n",
       "\n",
       "    .dataframe thead th {\n",
       "        text-align: right;\n",
       "    }\n",
       "</style>\n",
       "<table border=\"1\" class=\"dataframe\">\n",
       "  <thead>\n",
       "    <tr style=\"text-align: right;\">\n",
       "      <th></th>\n",
       "      <th>Month</th>\n",
       "      <th>Non-Highlight Quantity</th>\n",
       "      <th>Highlight Quantity</th>\n",
       "      <th>Highlight Contribution</th>\n",
       "    </tr>\n",
       "  </thead>\n",
       "  <tbody>\n",
       "    <tr>\n",
       "      <th>0</th>\n",
       "      <td>August</td>\n",
       "      <td>77723</td>\n",
       "      <td>2162</td>\n",
       "      <td>2.71</td>\n",
       "    </tr>\n",
       "  </tbody>\n",
       "</table>\n",
       "</div>"
      ],
      "text/plain": [
       "    Month  Non-Highlight Quantity  Highlight Quantity  Highlight Contribution\n",
       "0  August                   77723                2162                    2.71"
      ]
     },
     "execution_count": 26,
     "metadata": {},
     "output_type": "execute_result"
    }
   ],
   "source": [
    "august_comparison_qty = august_data.groupby(['Bulan', 'Is Highlighted'])['Jumlah Produk di Pesan'].sum().reset_index()\n",
    "\n",
    "\n",
    "august_pivot_qty = pd.pivot_table(august_comparison_qty, index='Bulan', columns='Is Highlighted', values='Jumlah Produk di Pesan').reset_index()\n",
    "\n",
    "august_pivot_qty.columns = ['Bulan', 'Non-Highlighted Products', 'Highlighted Products']\n",
    "august_pivot_qty['Hihglighted Products Contribution'] = (august_pivot_qty['Highlighted Products']/\n",
    "                                                     (august_pivot_qty['Highlighted Products'] + august_pivot_qty['Non-Highlighted Products']) * 100\n",
    "                                                     )\n",
    "august_pivot_qty['Hihglighted Products Contribution'] = round(august_pivot_qty['Hihglighted Products Contribution'], 2)\n",
    "august_pivot_qty.columns = ['Month', 'Non-Highlight Quantity', 'Highlight Quantity', 'Highlight Contribution']\n",
    "august_pivot_qty"
   ]
  },
  {
   "cell_type": "markdown",
   "metadata": {},
   "source": [
    "## b. September"
   ]
  },
  {
   "cell_type": "code",
   "execution_count": 27,
   "metadata": {},
   "outputs": [
    {
     "data": {
      "text/html": [
       "<div>\n",
       "<style scoped>\n",
       "    .dataframe tbody tr th:only-of-type {\n",
       "        vertical-align: middle;\n",
       "    }\n",
       "\n",
       "    .dataframe tbody tr th {\n",
       "        vertical-align: top;\n",
       "    }\n",
       "\n",
       "    .dataframe thead th {\n",
       "        text-align: right;\n",
       "    }\n",
       "</style>\n",
       "<table border=\"1\" class=\"dataframe\">\n",
       "  <thead>\n",
       "    <tr style=\"text-align: right;\">\n",
       "      <th></th>\n",
       "      <th>Month</th>\n",
       "      <th>Non-Highlight Quantity</th>\n",
       "      <th>Highlight Quantity</th>\n",
       "      <th>Highlight Contribution</th>\n",
       "    </tr>\n",
       "  </thead>\n",
       "  <tbody>\n",
       "    <tr>\n",
       "      <th>0</th>\n",
       "      <td>September</td>\n",
       "      <td>91999</td>\n",
       "      <td>6667</td>\n",
       "      <td>6.76</td>\n",
       "    </tr>\n",
       "  </tbody>\n",
       "</table>\n",
       "</div>"
      ],
      "text/plain": [
       "       Month  Non-Highlight Quantity  Highlight Quantity  \\\n",
       "0  September                   91999                6667   \n",
       "\n",
       "   Highlight Contribution  \n",
       "0                    6.76  "
      ]
     },
     "execution_count": 27,
     "metadata": {},
     "output_type": "execute_result"
    }
   ],
   "source": [
    "september_comparison_qty = september_data.groupby(['Bulan', 'Is Highlighted'])['Jumlah Produk di Pesan'].sum().reset_index()\n",
    "\n",
    "september_pivot_qty = pd.pivot_table(september_comparison_qty, index='Bulan', columns='Is Highlighted', values='Jumlah Produk di Pesan').reset_index()\n",
    "\n",
    "september_pivot_qty.columns = ['Bulan', 'Non-Highlighted Products', 'Highlighted Products']\n",
    "september_pivot_qty['Hihglighted Products Contribution'] = (september_pivot_qty['Highlighted Products']/\n",
    "                                                     (september_pivot_qty['Highlighted Products'] + september_pivot_qty['Non-Highlighted Products']) * 100\n",
    "                                                     )\n",
    "september_pivot_qty['Hihglighted Products Contribution'] = round(september_pivot_qty['Hihglighted Products Contribution'], 2)\n",
    "september_pivot_qty.columns = ['Month', 'Non-Highlight Quantity', 'Highlight Quantity', 'Highlight Contribution']\n",
    "september_pivot_qty"
   ]
  },
  {
   "cell_type": "markdown",
   "metadata": {},
   "source": [
    "## c. October"
   ]
  },
  {
   "cell_type": "code",
   "execution_count": 28,
   "metadata": {},
   "outputs": [
    {
     "data": {
      "text/html": [
       "<div>\n",
       "<style scoped>\n",
       "    .dataframe tbody tr th:only-of-type {\n",
       "        vertical-align: middle;\n",
       "    }\n",
       "\n",
       "    .dataframe tbody tr th {\n",
       "        vertical-align: top;\n",
       "    }\n",
       "\n",
       "    .dataframe thead th {\n",
       "        text-align: right;\n",
       "    }\n",
       "</style>\n",
       "<table border=\"1\" class=\"dataframe\">\n",
       "  <thead>\n",
       "    <tr style=\"text-align: right;\">\n",
       "      <th></th>\n",
       "      <th>Month</th>\n",
       "      <th>Non-Highlight Quantity</th>\n",
       "      <th>Highlight Quantity</th>\n",
       "      <th>Highlight Contribution</th>\n",
       "    </tr>\n",
       "  </thead>\n",
       "  <tbody>\n",
       "    <tr>\n",
       "      <th>0</th>\n",
       "      <td>October</td>\n",
       "      <td>95579</td>\n",
       "      <td>5835</td>\n",
       "      <td>5.75</td>\n",
       "    </tr>\n",
       "  </tbody>\n",
       "</table>\n",
       "</div>"
      ],
      "text/plain": [
       "     Month  Non-Highlight Quantity  Highlight Quantity  Highlight Contribution\n",
       "0  October                   95579                5835                    5.75"
      ]
     },
     "execution_count": 28,
     "metadata": {},
     "output_type": "execute_result"
    }
   ],
   "source": [
    "# October Comparison\n",
    "october_comparison_qty = october_data.groupby(['Bulan', 'Is Highlighted'])['Jumlah Produk di Pesan'].sum().reset_index()\n",
    "\n",
    "october_pivot_qty = pd.pivot_table(october_comparison_qty, index='Bulan', columns='Is Highlighted', values='Jumlah Produk di Pesan').reset_index()\n",
    "\n",
    "october_pivot_qty.columns = ['Bulan', 'Non-Highlighted Products', 'Highlighted Products']\n",
    "october_pivot_qty['Hihglighted Products Contribution'] = (october_pivot_qty['Highlighted Products']/\n",
    "                                                     (october_pivot_qty['Highlighted Products'] + october_pivot_qty['Non-Highlighted Products']) * 100\n",
    "                                                     )\n",
    "october_pivot_qty['Hihglighted Products Contribution'] = round(october_pivot_qty['Hihglighted Products Contribution'], 2)\n",
    "october_pivot_qty.columns = ['Month', 'Non-Highlight Quantity', 'Highlight Quantity', 'Highlight Contribution']\n",
    "october_pivot_qty"
   ]
  },
  {
   "cell_type": "markdown",
   "metadata": {},
   "source": [
    "## d. Month-to-Month Growth"
   ]
  },
  {
   "cell_type": "code",
   "execution_count": 35,
   "metadata": {},
   "outputs": [
    {
     "data": {
      "text/html": [
       "<div>\n",
       "<style scoped>\n",
       "    .dataframe tbody tr th:only-of-type {\n",
       "        vertical-align: middle;\n",
       "    }\n",
       "\n",
       "    .dataframe tbody tr th {\n",
       "        vertical-align: top;\n",
       "    }\n",
       "\n",
       "    .dataframe thead th {\n",
       "        text-align: right;\n",
       "    }\n",
       "</style>\n",
       "<table border=\"1\" class=\"dataframe\">\n",
       "  <thead>\n",
       "    <tr style=\"text-align: right;\">\n",
       "      <th></th>\n",
       "      <th>Month</th>\n",
       "      <th>Non-Highlight Quantity</th>\n",
       "      <th>Highlight Quantity</th>\n",
       "      <th>Highlight Contribution(%)</th>\n",
       "      <th>Total Quantity</th>\n",
       "      <th>Non-Highlight Quantity Growth(%)</th>\n",
       "      <th>Highlight Quantity Growth(%)</th>\n",
       "    </tr>\n",
       "  </thead>\n",
       "  <tbody>\n",
       "    <tr>\n",
       "      <th>0</th>\n",
       "      <td>August</td>\n",
       "      <td>77723</td>\n",
       "      <td>2162</td>\n",
       "      <td>2.71</td>\n",
       "      <td>79885</td>\n",
       "      <td>NaN</td>\n",
       "      <td>NaN</td>\n",
       "    </tr>\n",
       "    <tr>\n",
       "      <th>0</th>\n",
       "      <td>September</td>\n",
       "      <td>91999</td>\n",
       "      <td>6667</td>\n",
       "      <td>6.76</td>\n",
       "      <td>98666</td>\n",
       "      <td>18.37</td>\n",
       "      <td>208.37</td>\n",
       "    </tr>\n",
       "    <tr>\n",
       "      <th>0</th>\n",
       "      <td>October</td>\n",
       "      <td>95579</td>\n",
       "      <td>5835</td>\n",
       "      <td>5.75</td>\n",
       "      <td>101414</td>\n",
       "      <td>3.89</td>\n",
       "      <td>-12.48</td>\n",
       "    </tr>\n",
       "  </tbody>\n",
       "</table>\n",
       "</div>"
      ],
      "text/plain": [
       "       Month  Non-Highlight Quantity  Highlight Quantity  \\\n",
       "0     August                   77723                2162   \n",
       "0  September                   91999                6667   \n",
       "0    October                   95579                5835   \n",
       "\n",
       "   Highlight Contribution(%)  Total Quantity  \\\n",
       "0                       2.71           79885   \n",
       "0                       6.76           98666   \n",
       "0                       5.75          101414   \n",
       "\n",
       "   Non-Highlight Quantity Growth(%)  Highlight Quantity Growth(%)  \n",
       "0                               NaN                           NaN  \n",
       "0                             18.37                        208.37  \n",
       "0                              3.89                        -12.48  "
      ]
     },
     "execution_count": 35,
     "metadata": {},
     "output_type": "execute_result"
    }
   ],
   "source": [
    "highlighted_products_impact_qty = pd.concat([august_pivot_qty, september_pivot_qty, october_pivot_qty], axis=0)\n",
    "\n",
    "highlighted_products_impact_qty['Total Quantity'] = highlighted_products_impact_qty['Non-Highlight Quantity'] + highlighted_products_impact_qty['Highlight Quantity']\n",
    "\n",
    "highlighted_products_impact_qty['Non-Highlight Quantity Growth(%)'] = highlighted_products_impact_qty['Non-Highlight Quantity'].pct_change() * 100\n",
    "highlighted_products_impact_qty['Non-Highlight Quantity Growth(%)'] = round(highlighted_products_impact_qty['Non-Highlight Quantity Growth(%)'], 2)\n",
    "\n",
    "highlighted_products_impact_qty['Highlight Quantity Growth(%)'] = highlighted_products_impact_qty['Highlight Quantity'].pct_change() * 100\n",
    "highlighted_products_impact_qty['Highlight Quantity Growth(%)'] = round(highlighted_products_impact_qty['Highlight Quantity Growth(%)'], 2)\n",
    "\n",
    "highlighted_products_impact_qty.rename(columns={'Highlight Contribution': 'Highlight Contribution(%)'}, inplace=True)\n",
    "highlighted_products_impact_qty"
   ]
  },
  {
   "cell_type": "code",
   "execution_count": 36,
   "metadata": {},
   "outputs": [
    {
     "data": {
      "text/plain": [
       "151991"
      ]
     },
     "execution_count": 36,
     "metadata": {},
     "output_type": "execute_result"
    }
   ],
   "source": [
    "df.shape[0]"
   ]
  },
  {
   "cell_type": "code",
   "execution_count": null,
   "metadata": {},
   "outputs": [],
   "source": []
  }
 ],
 "metadata": {
  "kernelspec": {
   "display_name": "base",
   "language": "python",
   "name": "python3"
  },
  "language_info": {
   "codemirror_mode": {
    "name": "ipython",
    "version": 3
   },
   "file_extension": ".py",
   "mimetype": "text/x-python",
   "name": "python",
   "nbconvert_exporter": "python",
   "pygments_lexer": "ipython3",
   "version": "3.11.5"
  }
 },
 "nbformat": 4,
 "nbformat_minor": 2
}
